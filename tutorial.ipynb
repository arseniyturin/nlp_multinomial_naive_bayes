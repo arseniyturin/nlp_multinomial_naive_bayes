{
 "cells": [
  {
   "cell_type": "markdown",
   "id": "a032e9cf",
   "metadata": {},
   "source": [
    "# Text Classification with Multinomial Naive Bayes"
   ]
  },
  {
   "cell_type": "markdown",
   "id": "c79689d3",
   "metadata": {},
   "source": [
    "1. Load Textual Data\n",
    "2. Text Preprocessing (TF-IDF, word count)\n",
    "3. Train Classifier\n",
    "4. Evaluate Results\n",
    "5. Test Model"
   ]
  },
  {
   "cell_type": "markdown",
   "id": "52a2de9a",
   "metadata": {},
   "source": [
    "## Importing Libraries"
   ]
  },
  {
   "cell_type": "code",
   "execution_count": 1,
   "id": "fdd091a4",
   "metadata": {},
   "outputs": [],
   "source": [
    "from sklearn.naive_bayes import MultinomialNB # classifier\n",
    "from sklearn.feature_extraction.text import TfidfVectorizer, CountVectorizer # text vectorizer\n",
    "#from nltk.stem import WordNetLemmatizer, PorterStemmer\n",
    "from sklearn.metrics import confusion_matrix, accuracy_score, f1_score  # evaluation\n",
    "from sklearn.datasets import fetch_20newsgroups # data\n",
    "import matplotlib.pyplot as plt # visualization\n",
    "import pandas as pd # data representation\n",
    "from sklearn.pipeline import make_pipeline\n",
    "from sklearn.metrics import plot_confusion_matrix\n",
    "import pandas as pd"
   ]
  },
  {
   "cell_type": "markdown",
   "id": "1df238b7",
   "metadata": {},
   "source": [
    "## 1. Load Textual Data"
   ]
  },
  {
   "cell_type": "markdown",
   "id": "51f6fa92",
   "metadata": {},
   "source": [
    "News articles in 20 different categories, for this tutorial we choose the following:\n",
    " - alt.atheism\n",
    " - comp.graphics\n",
    " - sci.med\n",
    " - soc.religion.christian"
   ]
  },
  {
   "cell_type": "code",
   "execution_count": 2,
   "id": "7f14acee",
   "metadata": {},
   "outputs": [],
   "source": [
    "news = fetch_20newsgroups()"
   ]
  },
  {
   "cell_type": "code",
   "execution_count": 3,
   "id": "e1448f1d",
   "metadata": {
    "scrolled": true
   },
   "outputs": [
    {
     "data": {
      "text/plain": [
       "['alt.atheism',\n",
       " 'comp.graphics',\n",
       " 'comp.os.ms-windows.misc',\n",
       " 'comp.sys.ibm.pc.hardware',\n",
       " 'comp.sys.mac.hardware',\n",
       " 'comp.windows.x',\n",
       " 'misc.forsale',\n",
       " 'rec.autos',\n",
       " 'rec.motorcycles',\n",
       " 'rec.sport.baseball',\n",
       " 'rec.sport.hockey',\n",
       " 'sci.crypt',\n",
       " 'sci.electronics',\n",
       " 'sci.med',\n",
       " 'sci.space',\n",
       " 'soc.religion.christian',\n",
       " 'talk.politics.guns',\n",
       " 'talk.politics.mideast',\n",
       " 'talk.politics.misc',\n",
       " 'talk.religion.misc']"
      ]
     },
     "execution_count": 3,
     "metadata": {},
     "output_type": "execute_result"
    }
   ],
   "source": [
    "news.target_names"
   ]
  },
  {
   "cell_type": "code",
   "execution_count": 4,
   "id": "c70f0b8d",
   "metadata": {},
   "outputs": [],
   "source": [
    "target_categories = ['alt.atheism','comp.graphics','sci.med','soc.religion.christian']\n",
    "\n",
    "train = fetch_20newsgroups(subset='train', categories=target_categories)\n",
    "test = fetch_20newsgroups(subset='test', categories=target_categories)"
   ]
  },
  {
   "cell_type": "code",
   "execution_count": 5,
   "id": "853304c9",
   "metadata": {
    "scrolled": true
   },
   "outputs": [
    {
     "data": {
      "text/plain": [
       "(1502, 2257)"
      ]
     },
     "execution_count": 5,
     "metadata": {},
     "output_type": "execute_result"
    }
   ],
   "source": [
    "len(test.data), len(train.data)"
   ]
  },
  {
   "cell_type": "markdown",
   "id": "a6bed003",
   "metadata": {},
   "source": [
    "### Sample"
   ]
  },
  {
   "cell_type": "code",
   "execution_count": 6,
   "id": "a43b3276",
   "metadata": {},
   "outputs": [
    {
     "name": "stdout",
     "output_type": "stream",
     "text": [
      "CATEGORY: comp.graphics\n",
      "--------------------------------------------------------------------------------\n",
      "From: sd345@city.ac.uk (Michael Collier)\n",
      "Subject: Converting images to HP LaserJet III?\n",
      "Nntp-Posting-Host: hampton\n",
      "Organization: The City University\n",
      "Lines: 14\n",
      "\n",
      "Does anyone know of a good way (standard PC application/PD utility) to\n",
      "convert tif/img/tga files into LaserJet III format.  We would also like to\n",
      "do the same, converting to HPGL (HP plotter) files.\n",
      "\n",
      "Please email any response.\n",
      "\n",
      "Is this the correct group?\n",
      "\n",
      "Thanks in advance.  Michael.\n",
      "-- \n",
      "Michael Collier (Programmer)                 The Computer Unit,\n",
      "Email: M.P.Collier@uk.ac.city                The City University,\n",
      "Tel: 071 477-8000 x3769                      London,\n",
      "Fax: 071 477-8565                            EC1V 0HB.\n",
      "\n",
      "--------------------------------------------------------------------------------\n"
     ]
    }
   ],
   "source": [
    "print(f'CATEGORY: {target_categories[train.target[0]]}')\n",
    "print('-' * 80)\n",
    "print(train.data[0])\n",
    "print('-' * 80)"
   ]
  },
  {
   "cell_type": "markdown",
   "id": "f31cfdb5",
   "metadata": {},
   "source": [
    "## 2. Text preprocessing"
   ]
  },
  {
   "cell_type": "markdown",
   "id": "03299720",
   "metadata": {},
   "source": [
    "Text must be represented as numbers (vectors). There are several useful techniques to transform text into vectors:\n",
    "1. TF-IDF (Term Frequency - Inverse Document Frequency)\n",
    "2. Word Count"
   ]
  },
  {
   "cell_type": "code",
   "execution_count": 7,
   "id": "4444bb61",
   "metadata": {},
   "outputs": [],
   "source": [
    "sample_sentences = [\n",
    "    'My name is George, this is my name', \n",
    "    'I like apples', \n",
    "    'apple is my favorite fruit'\n",
    "    ]"
   ]
  },
  {
   "cell_type": "markdown",
   "id": "f8bbe45a",
   "metadata": {},
   "source": [
    "### TF-IDF"
   ]
  },
  {
   "cell_type": "code",
   "execution_count": 8,
   "id": "bf2216b5",
   "metadata": {},
   "outputs": [],
   "source": [
    "tfidf = TfidfVectorizer()"
   ]
  },
  {
   "cell_type": "code",
   "execution_count": 9,
   "id": "3f874891",
   "metadata": {},
   "outputs": [],
   "source": [
    "vectorizer = tfidf.fit_transform(sample_sentences)"
   ]
  },
  {
   "cell_type": "code",
   "execution_count": 10,
   "id": "58f16c05",
   "metadata": {},
   "outputs": [
    {
     "data": {
      "text/html": [
       "<div>\n",
       "<style scoped>\n",
       "    .dataframe tbody tr th:only-of-type {\n",
       "        vertical-align: middle;\n",
       "    }\n",
       "\n",
       "    .dataframe tbody tr th {\n",
       "        vertical-align: top;\n",
       "    }\n",
       "\n",
       "    .dataframe thead th {\n",
       "        text-align: right;\n",
       "    }\n",
       "</style>\n",
       "<table border=\"1\" class=\"dataframe\">\n",
       "  <thead>\n",
       "    <tr style=\"text-align: right;\">\n",
       "      <th></th>\n",
       "      <th>apple</th>\n",
       "      <th>apples</th>\n",
       "      <th>favorite</th>\n",
       "      <th>fruit</th>\n",
       "      <th>george</th>\n",
       "      <th>is</th>\n",
       "      <th>like</th>\n",
       "      <th>my</th>\n",
       "      <th>name</th>\n",
       "      <th>this</th>\n",
       "    </tr>\n",
       "  </thead>\n",
       "  <tbody>\n",
       "    <tr>\n",
       "      <th>0</th>\n",
       "      <td>0.000000</td>\n",
       "      <td>0.000000</td>\n",
       "      <td>0.000000</td>\n",
       "      <td>0.000000</td>\n",
       "      <td>0.306754</td>\n",
       "      <td>0.466589</td>\n",
       "      <td>0.000000</td>\n",
       "      <td>0.466589</td>\n",
       "      <td>0.613509</td>\n",
       "      <td>0.306754</td>\n",
       "    </tr>\n",
       "    <tr>\n",
       "      <th>1</th>\n",
       "      <td>0.000000</td>\n",
       "      <td>0.707107</td>\n",
       "      <td>0.000000</td>\n",
       "      <td>0.000000</td>\n",
       "      <td>0.000000</td>\n",
       "      <td>0.000000</td>\n",
       "      <td>0.707107</td>\n",
       "      <td>0.000000</td>\n",
       "      <td>0.000000</td>\n",
       "      <td>0.000000</td>\n",
       "    </tr>\n",
       "    <tr>\n",
       "      <th>2</th>\n",
       "      <td>0.490479</td>\n",
       "      <td>0.000000</td>\n",
       "      <td>0.490479</td>\n",
       "      <td>0.490479</td>\n",
       "      <td>0.000000</td>\n",
       "      <td>0.373022</td>\n",
       "      <td>0.000000</td>\n",
       "      <td>0.373022</td>\n",
       "      <td>0.000000</td>\n",
       "      <td>0.000000</td>\n",
       "    </tr>\n",
       "  </tbody>\n",
       "</table>\n",
       "</div>"
      ],
      "text/plain": [
       "      apple    apples  favorite     fruit    george        is      like  \\\n",
       "0  0.000000  0.000000  0.000000  0.000000  0.306754  0.466589  0.000000   \n",
       "1  0.000000  0.707107  0.000000  0.000000  0.000000  0.000000  0.707107   \n",
       "2  0.490479  0.000000  0.490479  0.490479  0.000000  0.373022  0.000000   \n",
       "\n",
       "         my      name      this  \n",
       "0  0.466589  0.613509  0.306754  \n",
       "1  0.000000  0.000000  0.000000  \n",
       "2  0.373022  0.000000  0.000000  "
      ]
     },
     "execution_count": 10,
     "metadata": {},
     "output_type": "execute_result"
    }
   ],
   "source": [
    "pd.DataFrame(vectorizer.toarray(), columns=tfidf.get_feature_names())"
   ]
  },
  {
   "cell_type": "markdown",
   "id": "81b76160",
   "metadata": {},
   "source": [
    "### Words Counting"
   ]
  },
  {
   "cell_type": "code",
   "execution_count": 11,
   "id": "d2b15273",
   "metadata": {},
   "outputs": [],
   "source": [
    "count_vector = CountVectorizer()"
   ]
  },
  {
   "cell_type": "code",
   "execution_count": 12,
   "id": "df72ae1d",
   "metadata": {},
   "outputs": [],
   "source": [
    "vectorizer = count_vector.fit_transform(sample_sentences)"
   ]
  },
  {
   "cell_type": "code",
   "execution_count": 13,
   "id": "607e10ea",
   "metadata": {},
   "outputs": [
    {
     "data": {
      "text/html": [
       "<div>\n",
       "<style scoped>\n",
       "    .dataframe tbody tr th:only-of-type {\n",
       "        vertical-align: middle;\n",
       "    }\n",
       "\n",
       "    .dataframe tbody tr th {\n",
       "        vertical-align: top;\n",
       "    }\n",
       "\n",
       "    .dataframe thead th {\n",
       "        text-align: right;\n",
       "    }\n",
       "</style>\n",
       "<table border=\"1\" class=\"dataframe\">\n",
       "  <thead>\n",
       "    <tr style=\"text-align: right;\">\n",
       "      <th></th>\n",
       "      <th>apple</th>\n",
       "      <th>apples</th>\n",
       "      <th>favorite</th>\n",
       "      <th>fruit</th>\n",
       "      <th>george</th>\n",
       "      <th>is</th>\n",
       "      <th>like</th>\n",
       "      <th>my</th>\n",
       "      <th>name</th>\n",
       "      <th>this</th>\n",
       "    </tr>\n",
       "  </thead>\n",
       "  <tbody>\n",
       "    <tr>\n",
       "      <th>0</th>\n",
       "      <td>0</td>\n",
       "      <td>0</td>\n",
       "      <td>0</td>\n",
       "      <td>0</td>\n",
       "      <td>1</td>\n",
       "      <td>2</td>\n",
       "      <td>0</td>\n",
       "      <td>2</td>\n",
       "      <td>2</td>\n",
       "      <td>1</td>\n",
       "    </tr>\n",
       "    <tr>\n",
       "      <th>1</th>\n",
       "      <td>0</td>\n",
       "      <td>1</td>\n",
       "      <td>0</td>\n",
       "      <td>0</td>\n",
       "      <td>0</td>\n",
       "      <td>0</td>\n",
       "      <td>1</td>\n",
       "      <td>0</td>\n",
       "      <td>0</td>\n",
       "      <td>0</td>\n",
       "    </tr>\n",
       "    <tr>\n",
       "      <th>2</th>\n",
       "      <td>1</td>\n",
       "      <td>0</td>\n",
       "      <td>1</td>\n",
       "      <td>1</td>\n",
       "      <td>0</td>\n",
       "      <td>1</td>\n",
       "      <td>0</td>\n",
       "      <td>1</td>\n",
       "      <td>0</td>\n",
       "      <td>0</td>\n",
       "    </tr>\n",
       "  </tbody>\n",
       "</table>\n",
       "</div>"
      ],
      "text/plain": [
       "   apple  apples  favorite  fruit  george  is  like  my  name  this\n",
       "0      0       0         0      0       1   2     0   2     2     1\n",
       "1      0       1         0      0       0   0     1   0     0     0\n",
       "2      1       0         1      1       0   1     0   1     0     0"
      ]
     },
     "execution_count": 13,
     "metadata": {},
     "output_type": "execute_result"
    }
   ],
   "source": [
    "pd.DataFrame(vectorizer.toarray(), columns=count_vector.get_feature_names())"
   ]
  },
  {
   "cell_type": "markdown",
   "id": "130a0a26",
   "metadata": {},
   "source": [
    "## 3. Model"
   ]
  },
  {
   "cell_type": "markdown",
   "id": "6564b0d7",
   "metadata": {},
   "source": [
    "Build two models, but use different vectorization techniques: TF-IDF and Word Count"
   ]
  },
  {
   "cell_type": "code",
   "execution_count": 14,
   "id": "37248771",
   "metadata": {},
   "outputs": [],
   "source": [
    "model_tfidf = make_pipeline(TfidfVectorizer(), MultinomialNB())\n",
    "model_count = make_pipeline(CountVectorizer(), MultinomialNB())"
   ]
  },
  {
   "cell_type": "markdown",
   "id": "559eb722",
   "metadata": {},
   "source": [
    "### 1. Training"
   ]
  },
  {
   "cell_type": "code",
   "execution_count": 15,
   "id": "22127bb7",
   "metadata": {},
   "outputs": [
    {
     "data": {
      "text/plain": [
       "(Pipeline(steps=[('tfidfvectorizer', TfidfVectorizer()),\n",
       "                 ('multinomialnb', MultinomialNB())]),\n",
       " Pipeline(steps=[('countvectorizer', CountVectorizer()),\n",
       "                 ('multinomialnb', MultinomialNB())]))"
      ]
     },
     "execution_count": 15,
     "metadata": {},
     "output_type": "execute_result"
    }
   ],
   "source": [
    "model_tfidf.fit(train.data, train.target), \\\n",
    "model_count.fit(train.data, train.target)"
   ]
  },
  {
   "cell_type": "markdown",
   "id": "21c31a21",
   "metadata": {},
   "source": [
    "### 2. Predicting"
   ]
  },
  {
   "cell_type": "code",
   "execution_count": 16,
   "id": "097fca6d",
   "metadata": {},
   "outputs": [],
   "source": [
    "y_pred_tfidf = model_tfidf.predict(test.data)\n",
    "y_pred_count = model_count.predict(test.data)"
   ]
  },
  {
   "cell_type": "markdown",
   "id": "9f3a772f",
   "metadata": {},
   "source": [
    "### 3. Evaluation"
   ]
  },
  {
   "cell_type": "code",
   "execution_count": 17,
   "id": "4dd941eb",
   "metadata": {},
   "outputs": [
    {
     "name": "stdout",
     "output_type": "stream",
     "text": [
      "Multinomial Naive Bayes with TF-IDF:\n",
      "----------------------------------------\n",
      "f1: 0.8368\n",
      "accuracy: 0.8349\n"
     ]
    }
   ],
   "source": [
    "f1 = f1_score(test.target, y_pred_tfidf, average='weighted')\n",
    "accuracy = accuracy_score(test.target, y_pred_tfidf)\n",
    "print('Multinomial Naive Bayes with TF-IDF:')\n",
    "print('-' * 40)\n",
    "print(f'f1: {f1:.4f}')\n",
    "print(f'accuracy: {accuracy:.4f}')"
   ]
  },
  {
   "cell_type": "code",
   "execution_count": 18,
   "id": "70ad095a",
   "metadata": {},
   "outputs": [
    {
     "name": "stdout",
     "output_type": "stream",
     "text": [
      "Multinomial Naive Bayes with Word Count:\n",
      "----------------------------------------\n",
      "f1: 0.9340\n",
      "accuracy: 0.9341\n"
     ]
    }
   ],
   "source": [
    "f1 = f1_score(test.target, y_pred_count, average='weighted')\n",
    "accuracy = accuracy_score(test.target, y_pred_count)\n",
    "print('Multinomial Naive Bayes with Word Count:')\n",
    "print('-' * 40)\n",
    "print(f'f1: {f1:.4f}')\n",
    "print(f'accuracy: {accuracy:.4f}')"
   ]
  },
  {
   "cell_type": "markdown",
   "id": "c8db2f06",
   "metadata": {},
   "source": [
    "## 4. Testing the Model"
   ]
  },
  {
   "cell_type": "code",
   "execution_count": 19,
   "id": "6a10556c",
   "metadata": {},
   "outputs": [],
   "source": [
    "text = [\n",
    "    'I believe in jesus', \n",
    "    'Nvidia released new video card', \n",
    "    'one apple a day takes a doctor away',\n",
    "    'God does not exist',\n",
    "    'My monitor supports HDR',\n",
    "    'Vitamins are essential for your health and development'\n",
    "]"
   ]
  },
  {
   "cell_type": "code",
   "execution_count": 20,
   "id": "cddd56a6",
   "metadata": {},
   "outputs": [],
   "source": [
    "y_pred = model_tfidf.predict(text)"
   ]
  },
  {
   "cell_type": "code",
   "execution_count": 24,
   "id": "8c60ab46",
   "metadata": {},
   "outputs": [
    {
     "name": "stdout",
     "output_type": "stream",
     "text": [
      "\"soc.religion.christian\" ==> \"I believe in jesus\"\n",
      "\"comp.graphics         \" ==> \"Nvidia released new video card\"\n",
      "\"sci.med               \" ==> \"one apple a day takes a doctor away\"\n",
      "\"soc.religion.christian\" ==> \"God does not exist\"\n",
      "\"comp.graphics         \" ==> \"My monitor supports HDR\"\n",
      "\"sci.med               \" ==> \"Vitamins are essential for your health and development\"\n"
     ]
    }
   ],
   "source": [
    "for i in range(len(y_pred)):\n",
    "    print(f'\"{target_categories[y_pred[i]]:<22}\" ==> \"{text[i]}\"')"
   ]
  },
  {
   "cell_type": "code",
   "execution_count": null,
   "id": "00a30dab",
   "metadata": {},
   "outputs": [],
   "source": []
  }
 ],
 "metadata": {
  "kernelspec": {
   "display_name": "Python 3",
   "language": "python",
   "name": "python3"
  },
  "language_info": {
   "codemirror_mode": {
    "name": "ipython",
    "version": 3
   },
   "file_extension": ".py",
   "mimetype": "text/x-python",
   "name": "python",
   "nbconvert_exporter": "python",
   "pygments_lexer": "ipython3",
   "version": "3.9.2"
  }
 },
 "nbformat": 4,
 "nbformat_minor": 5
}
